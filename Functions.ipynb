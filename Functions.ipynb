{
 "cells": [
  {
   "cell_type": "code",
   "execution_count": 2,
   "metadata": {},
   "outputs": [
    {
     "name": "stdout",
     "output_type": "stream",
     "text": [
      "70\n"
     ]
    }
   ],
   "source": [
    "def sum(a,b):\n",
    "    return (a+b)\n",
    "print(sum(50,20))\n"
   ]
  },
  {
   "cell_type": "code",
   "execution_count": 7,
   "metadata": {},
   "outputs": [
    {
     "name": "stdout",
     "output_type": "stream",
     "text": [
      "Enter your marks out of 500 250\n",
      "Grade is B\n"
     ]
    }
   ],
   "source": [
    "a=int(input(\"Enter your marks out of 500 \"))\n",
    "per=a/500*100\n",
    "if per>=80:\n",
    "    grade=\"O\"\n",
    "elif per>=65:\n",
    "    grade=\"A\"\n",
    "elif per>=50:\n",
    "    grade=\"B\"\n",
    "elif per >=40:\n",
    "    grade=\"C\"\n",
    "else:\n",
    "    grade=\"Fail\"\n",
    "print(f'Grade is {grade}')"
   ]
  },
  {
   "cell_type": "code",
   "execution_count": null,
   "metadata": {},
   "outputs": [],
   "source": []
  }
 ],
 "metadata": {
  "kernelspec": {
   "display_name": "Python 3",
   "language": "python",
   "name": "python3"
  },
  "language_info": {
   "codemirror_mode": {
    "name": "ipython",
    "version": 3
   },
   "file_extension": ".py",
   "mimetype": "text/x-python",
   "name": "python",
   "nbconvert_exporter": "python",
   "pygments_lexer": "ipython3",
   "version": "3.7.6"
  }
 },
 "nbformat": 4,
 "nbformat_minor": 4
}
